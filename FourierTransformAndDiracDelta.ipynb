{
  "nbformat": 4,
  "nbformat_minor": 0,
  "metadata": {
    "colab": {
      "name": "FourierTransformAndDiracDelta.ipynb",
      "provenance": [],
      "authorship_tag": "ABX9TyM3grmy4L24GAr/rP9oF9zL",
      "include_colab_link": true
    },
    "kernelspec": {
      "name": "python3",
      "display_name": "Python 3"
    },
    "language_info": {
      "name": "python"
    }
  },
  "cells": [
    {
      "cell_type": "markdown",
      "metadata": {
        "id": "view-in-github",
        "colab_type": "text"
      },
      "source": [
        "<a href=\"https://colab.research.google.com/github/kevintah/FourierTransformAndDiracDelta/blob/main/FourierTransformAndDiracDelta.ipynb\" target=\"_parent\"><img src=\"https://colab.research.google.com/assets/colab-badge.svg\" alt=\"Open In Colab\"/></a>"
      ]
    },
    {
      "cell_type": "markdown",
      "source": [
        "//References\n",
        "https://mathworld.wolfram.com/FourierTransform.html\n",
        "\n",
        "https://www.theoretical-physics.net/dev/math/transforms.html"
      ],
      "metadata": {
        "id": "wDFOvRaZnn8q"
      }
    },
    {
      "cell_type": "markdown",
      "source": [
        "//Comments\n",
        "Done in oscilatory frequency not angular frequency (angular frequency omega=2 pi nu)\n",
        "\n",
        "\n"
      ],
      "metadata": {
        "id": "xEdVdxKTn1QC"
      }
    },
    {
      "cell_type": "code",
      "execution_count": 14,
      "metadata": {
        "id": "RfsEyp1G0R_o"
      },
      "outputs": [],
      "source": [
        "from sympy import DiracDelta, diff, pi"
      ]
    },
    {
      "cell_type": "code",
      "source": [
        "from sympy import fourier_transform, exp\n"
      ],
      "metadata": {
        "id": "mWITw7YC2AeU"
      },
      "execution_count": 15,
      "outputs": []
    },
    {
      "cell_type": "code",
      "source": [
        "from sympy import *"
      ],
      "metadata": {
        "id": "XI5kg42X1m55"
      },
      "execution_count": 16,
      "outputs": []
    },
    {
      "cell_type": "code",
      "source": [
        "from sympy.abc import x, y, k"
      ],
      "metadata": {
        "id": "VZpOYRXu0zFR"
      },
      "execution_count": 17,
      "outputs": []
    },
    {
      "cell_type": "code",
      "source": [
        "x0 = Symbol('x0')"
      ],
      "metadata": {
        "id": "G0_FPPE71bR8"
      },
      "execution_count": 18,
      "outputs": []
    },
    {
      "cell_type": "code",
      "source": [
        "diracDelta = DiracDelta(x - x0)"
      ],
      "metadata": {
        "id": "q0TUWX1i02xK"
      },
      "execution_count": 19,
      "outputs": []
    },
    {
      "cell_type": "code",
      "source": [
        "diracDelta"
      ],
      "metadata": {
        "colab": {
          "base_uri": "https://localhost:8080/",
          "height": 39
        },
        "id": "TxtbrKkD2Vfk",
        "outputId": "34a71c4b-ab19-4160-c958-d043f1db2085"
      },
      "execution_count": 20,
      "outputs": [
        {
          "output_type": "execute_result",
          "data": {
            "text/plain": [
              "DiracDelta(x - x0)"
            ],
            "text/latex": "$\\displaystyle \\delta\\left(x - x_{0}\\right)$"
          },
          "metadata": {},
          "execution_count": 20
        }
      ]
    },
    {
      "cell_type": "code",
      "source": [
        "forwardFourier = fourier_transform(diracDelta, x, k)"
      ],
      "metadata": {
        "id": "rU0SfJLP1P7O"
      },
      "execution_count": 21,
      "outputs": []
    },
    {
      "cell_type": "code",
      "source": [
        "forwardFourier"
      ],
      "metadata": {
        "colab": {
          "base_uri": "https://localhost:8080/",
          "height": 39
        },
        "id": "mxAcm4he2Y-G",
        "outputId": "94597481-5b1a-4f56-b626-dc33458d044f"
      },
      "execution_count": 22,
      "outputs": [
        {
          "output_type": "execute_result",
          "data": {
            "text/plain": [
              "exp(-2*I*pi*k*x0)"
            ],
            "text/latex": "$\\displaystyle e^{- 2 i \\pi k x_{0}}$"
          },
          "metadata": {},
          "execution_count": 22
        }
      ]
    },
    {
      "cell_type": "code",
      "source": [
        "inverseFourier = inverse_fourier_transform(forwardFourier, k, x)\n"
      ],
      "metadata": {
        "id": "Nh_uKh_74M7F"
      },
      "execution_count": 23,
      "outputs": []
    },
    {
      "cell_type": "code",
      "source": [
        "inverseFourier"
      ],
      "metadata": {
        "colab": {
          "base_uri": "https://localhost:8080/",
          "height": 39
        },
        "id": "kOMjZ3vD4Vh3",
        "outputId": "604cf667-1ef6-4393-bb4d-6e862276075a"
      },
      "execution_count": 24,
      "outputs": [
        {
          "output_type": "execute_result",
          "data": {
            "text/plain": [
              "InverseFourierTransform(exp(-2*I*pi*k*x0), k, x)"
            ],
            "text/latex": "$\\displaystyle \\mathcal{F}^{-1}_{k}\\left[e^{- 2 i \\pi k x_{0}}\\right]\\left(x\\right)$"
          },
          "metadata": {},
          "execution_count": 24
        }
      ]
    },
    {
      "cell_type": "markdown",
      "source": [
        "The inverse fourier defines the shifted dirac delta function"
      ],
      "metadata": {
        "id": "DAkWBzFFpBF7"
      }
    },
    {
      "cell_type": "code",
      "source": [
        ""
      ],
      "metadata": {
        "id": "YFHy6Yhao6_T"
      },
      "execution_count": 24,
      "outputs": []
    }
  ]
}